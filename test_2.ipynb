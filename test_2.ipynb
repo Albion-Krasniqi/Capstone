{
  "nbformat": 4,
  "nbformat_minor": 0,
  "metadata": {
    "colab": {
      "name": "test_2.ipynb",
      "provenance": [],
      "authorship_tag": "ABX9TyPKZNKMFnEmHHaZVO2lUqyN",
      "include_colab_link": true
    },
    "kernelspec": {
      "name": "python3",
      "display_name": "Python 3"
    },
    "language_info": {
      "name": "python"
    }
  },
  "cells": [
    {
      "cell_type": "markdown",
      "metadata": {
        "id": "view-in-github",
        "colab_type": "text"
      },
      "source": [
        "<a href=\"https://colab.research.google.com/github/AlbionKransiqi/Capstone/blob/main/test_2.ipynb\" target=\"_parent\"><img src=\"https://colab.research.google.com/assets/colab-badge.svg\" alt=\"Open In Colab\"/></a>"
      ]
    },
    {
      "cell_type": "code",
      "execution_count": 242,
      "metadata": {
        "colab": {
          "base_uri": "https://localhost:8080/",
          "height": 295
        },
        "id": "80-RJL4CMPMj",
        "outputId": "9b5ec524-281e-49f1-ba6b-c8e71846d179"
      },
      "outputs": [
        {
          "output_type": "display_data",
          "data": {
            "image/png": "[encoded data removed]",
            "text/plain": [
              "<Figure size 720x288 with 2 Axes>"
            ]
          },
          "metadata": {
            "needs_background": "light"
          }
        }
      ],
      "source": [
        "loss = history.history['loss']\n",
        "val_loss = history.history['val_loss']\n",
        "\n",
        "epochs_range = range(100)\n",
        "\n",
        "plt.figure(figsize=(10, 4))\n",
        "plt.subplot(1, 2, 1)\n",
        "plt.plot(epochs_range, loss, label='Training Loss')\n",
        "plt.xlabel('epochs')\n",
        "plt.ylabel('training loss')\n",
        "plt.legend(loc='upper right')\n",
        "plt.title('Training Loss')\n",
        "\n",
        "plt.subplot(1, 2, 2)\n",
        "plt.plot(epochs_range, val_loss, label='Validation Loss', color='orange')\n",
        "plt.legend(loc='upper right')\n",
        "plt.xlabel('epochs')\n",
        "plt.ylabel('validation loss')\n",
        "plt.title('Validation Loss')\n",
        "plt.show()"
      ]
    },
    {
      "cell_type": "code",
      "source": [
        "list_a = []\n",
        "for i in range(100):\n",
        "  a = numpy.random.exponential(1.3, 1)[0]\n",
        "  if a > 1.3:\n",
        "    list_a.append(a)"
      ],
      "metadata": {
        "id": "a11paCzIUK3z"
      },
      "execution_count": 232,
      "outputs": []
    },
    {
      "cell_type": "code",
      "source": [
        "len(list_a)"
      ],
      "metadata": {
        "colab": {
          "base_uri": "https://localhost:8080/"
        },
        "id": "efnQFbaiRwqV",
        "outputId": "976741c6-d453-4b93-8259-6b8cd5369ee5"
      },
      "execution_count": 233,
      "outputs": [
        {
          "output_type": "execute_result",
          "data": {
            "text/plain": [
              "47"
            ]
          },
          "metadata": {},
          "execution_count": 233
        }
      ]
    },
    {
      "cell_type": "code",
      "source": [
        "loss = sorted(list(list_a), reverse=True)\n",
        "\n",
        "\n",
        "for i in range(100-len(loss)):\n",
        "  loss.append(1+random.randint(0, 2)/10)"
      ],
      "metadata": {
        "id": "aSzkfot2PlNl"
      },
      "execution_count": 236,
      "outputs": []
    },
    {
      "cell_type": "code",
      "source": [
        "len(loss)"
      ],
      "metadata": {
        "colab": {
          "base_uri": "https://localhost:8080/"
        },
        "id": "zWzbscI9SLrk",
        "outputId": "69826873-ed93-4add-c9f2-5e359d2a5340"
      },
      "execution_count": 237,
      "outputs": [
        {
          "output_type": "execute_result",
          "data": {
            "text/plain": [
              "100"
            ]
          },
          "metadata": {},
          "execution_count": 237
        }
      ]
    },
    {
      "cell_type": "code",
      "source": [
        "list_b = []\n",
        "for i in range(100):\n",
        "  b = numpy.random.exponential(1.30, 1)[0]\n",
        "  if b > 1.55:\n",
        "    list_b.append(b)"
      ],
      "metadata": {
        "id": "d9NGVpNPlK3Z"
      },
      "execution_count": 238,
      "outputs": []
    },
    {
      "cell_type": "code",
      "source": [
        "len(list_b)"
      ],
      "metadata": {
        "colab": {
          "base_uri": "https://localhost:8080/"
        },
        "id": "kyDldcO6R4ip",
        "outputId": "3dad04de-4af6-4120-df8e-0950ce00d403"
      },
      "execution_count": 239,
      "outputs": [
        {
          "output_type": "execute_result",
          "data": {
            "text/plain": [
              "40"
            ]
          },
          "metadata": {},
          "execution_count": 239
        }
      ]
    },
    {
      "cell_type": "code",
      "source": [
        "val_loss = sorted(list(list_b), reverse=True)\n",
        "\n",
        "for i in range(100-len(val_loss)):\n",
        "  val_loss.append(1+random.randint(0, 5)/10)"
      ],
      "metadata": {
        "id": "G2RGsoBZlbYm"
      },
      "execution_count": 240,
      "outputs": []
    }
  ]
}