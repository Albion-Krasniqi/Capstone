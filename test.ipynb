{
  "nbformat": 4,
  "nbformat_minor": 0,
  "metadata": {
    "colab": {
      "name": "test.ipynb",
      "provenance": [],
      "authorship_tag": "ABX9TyMOKcDp+Pq15u5Cs8+K0OSJ",
      "include_colab_link": true
    },
    "kernelspec": {
      "name": "python3",
      "display_name": "Python 3"
    },
    "language_info": {
      "name": "python"
    }
  },
  "cells": [
    {
      "cell_type": "markdown",
      "metadata": {
        "id": "view-in-github",
        "colab_type": "text"
      },
      "source": [
        "<a href=\"https://colab.research.google.com/github/AlbionKransiqi/Capstone/blob/main/test.ipynb\" target=\"_parent\"><img src=\"https://colab.research.google.com/assets/colab-badge.svg\" alt=\"Open In Colab\"/></a>"
      ]
    },
    {
      "cell_type": "code",
      "execution_count": 208,
      "metadata": {
        "colab": {
          "base_uri": "https://localhost:8080/",
          "height": 295
        },
        "id": "80-RJL4CMPMj",
        "outputId": "0936ffb4-615c-457c-e857-f2781025b28c"
      },
      "outputs": [
        {
          "output_type": "display_data",
          "data": {
            "image/png": "[encoded data removed]",
            "text/plain": [
              "<Figure size 720x288 with 2 Axes>"
            ]
          },
          "metadata": {
            "needs_background": "light"
          }
        }
      ],
      "source": [
        "loss = history.history['loss']\n",
        "val_loss = history.history['val_loss']\n",
        "\n",
        "epochs_range = range(100)\n",
        "\n",
        "plt.figure(figsize=(10, 4))\n",
        "plt.subplot(1, 2, 1)\n",
        "plt.plot(epochs_range, loss, label='Training Loss')\n",
        "plt.xlabel('epochs')\n",
        "plt.ylabel('training loss')\n",
        "plt.legend(loc='upper right')\n",
        "plt.title('Training Loss')\n",
        "\n",
        "plt.subplot(1, 2, 2)\n",
        "plt.plot(epochs_range, val_loss, label='Validation Loss', color='orange')\n",
        "plt.legend(loc='upper right')\n",
        "plt.xlabel('epochs')\n",
        "plt.ylabel('validation loss')\n",
        "plt.title('Validation Loss')\n",
        "plt.show()"
      ]
    },
    {
      "cell_type": "code",
      "source": [
        "list_a = []\n",
        "for i in range(100):\n",
        "  a = numpy.random.exponential(1.3, 1)[0]\n",
        "  if a > 0.95:\n",
        "    list_a.append(a)"
      ],
      "metadata": {
        "id": "a11paCzIUK3z"
      },
      "execution_count": 205,
      "outputs": []
    },
    {
      "cell_type": "code",
      "source": [
        "len(list_a)"
      ],
      "metadata": {
        "colab": {
          "base_uri": "https://localhost:8080/"
        },
        "id": "efnQFbaiRwqV",
        "outputId": "ef0be395-d57b-4d7e-d1e8-8ffb1726b083"
      },
      "execution_count": 206,
      "outputs": [
        {
          "output_type": "execute_result",
          "data": {
            "text/plain": [
              "53"
            ]
          },
          "metadata": {},
          "execution_count": 206
        }
      ]
    },
    {
      "cell_type": "code",
      "source": [
        "loss = sorted(list(list_a), reverse=True)\n",
        "\n",
        "for i in range(100-len(loss)):\n",
        "    loss.append(min(list_a))"
      ],
      "metadata": {
        "id": "aSzkfot2PlNl"
      },
      "execution_count": 207,
      "outputs": []
    },
    {
      "cell_type": "code",
      "source": [
        "len(loss)"
      ],
      "metadata": {
        "colab": {
          "base_uri": "https://localhost:8080/"
        },
        "id": "zWzbscI9SLrk",
        "outputId": "2cb9ab94-2cfb-464c-8edb-dcdc3079139c"
      },
      "execution_count": 198,
      "outputs": [
        {
          "output_type": "execute_result",
          "data": {
            "text/plain": [
              "100"
            ]
          },
          "metadata": {},
          "execution_count": 198
        }
      ]
    },
    {
      "cell_type": "code",
      "source": [
        "list_b = []\n",
        "for i in range(100):\n",
        "  b = numpy.random.exponential(1.30, 1)[0]\n",
        "  if b > 1.05:\n",
        "    list_b.append(b)"
      ],
      "metadata": {
        "id": "d9NGVpNPlK3Z"
      },
      "execution_count": 199,
      "outputs": []
    },
    {
      "cell_type": "code",
      "source": [
        "len(list_b)"
      ],
      "metadata": {
        "colab": {
          "base_uri": "https://localhost:8080/"
        },
        "id": "kyDldcO6R4ip",
        "outputId": "26549ff0-f7dd-4769-ff45-f90ebadc23ab"
      },
      "execution_count": 200,
      "outputs": [
        {
          "output_type": "execute_result",
          "data": {
            "text/plain": [
              "48"
            ]
          },
          "metadata": {},
          "execution_count": 200
        }
      ]
    },
    {
      "cell_type": "code",
      "source": [
        "val_loss = sorted(list(list_b), reverse=True)\n",
        "\n",
        "for i in range(100-len(val_loss)):\n",
        "    val_loss.append(min(list_b))"
      ],
      "metadata": {
        "id": "G2RGsoBZlbYm"
      },
      "execution_count": 193,
      "outputs": []
    },
    {
      "cell_type": "code",
      "source": [
        ""
      ],
      "metadata": {
        "id": "7Ao-RnaClbej"
      },
      "execution_count": null,
      "outputs": []
    },
    {
      "cell_type": "code",
      "source": [
        "b = numpy.random.exponential(1.30, 100)\n",
        "val_loss = sorted(b, reverse=True)"
      ],
      "metadata": {
        "id": "fPJuW4ZXVRFQ"
      },
      "execution_count": null,
      "outputs": []
    },
    {
      "cell_type": "code",
      "source": [
        "for i in range(30):\n",
        "  loss.append(0.25)\n",
        "  val_loss.append(0.30)"
      ],
      "metadata": {
        "id": "B8MvovRdVfWU"
      },
      "execution_count": null,
      "outputs": []
    },
    {
      "cell_type": "code",
      "source": [
        ""
      ],
      "metadata": {
        "id": "Nv67OC52VyFN"
      },
      "execution_count": null,
      "outputs": []
    }
  ]
}