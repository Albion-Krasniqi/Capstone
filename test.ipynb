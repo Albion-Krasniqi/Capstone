{
  "nbformat": 4,
  "nbformat_minor": 0,
  "metadata": {
    "colab": {
      "name": "test.ipynb",
      "provenance": [],
      "authorship_tag": "ABX9TyPUGYsUieZyQ0yQ/368xsLj",
      "include_colab_link": true
    },
    "kernelspec": {
      "name": "python3",
      "display_name": "Python 3"
    },
    "language_info": {
      "name": "python"
    }
  },
  "cells": [
    {
      "cell_type": "markdown",
      "metadata": {
        "id": "view-in-github",
        "colab_type": "text"
      },
      "source": [
        "<a href=\"https://colab.research.google.com/github/AlbionKransiqi/Capstone/blob/main/test.ipynb\" target=\"_parent\"><img src=\"https://colab.research.google.com/assets/colab-badge.svg\" alt=\"Open In Colab\"/></a>"
      ]
    },
    {
      "cell_type": "code",
      "execution_count": 194,
      "metadata": {
        "colab": {
          "base_uri": "https://localhost:8080/",
          "height": 295
        },
        "id": "80-RJL4CMPMj",
        "outputId": "ef55aca6-a360-45d6-b5bc-c348bae00bf3"
      },
      "outputs": [
        {
          "output_type": "display_data",
          "data": {
            "image/png": "[encoded data removed]",
            "text/plain": [
              "<Figure size 720x288 with 2 Axes>"
            ]
          },
          "metadata": {
            "needs_background": "light"
          }
        }
      ],
      "source": [
        "loss = history.history['loss']\n",
        "val_loss = history.history['val_loss']\n",
        "\n",
        "epochs_range = range(100)\n",
        "\n",
        "plt.figure(figsize=(10, 4))\n",
        "plt.subplot(1, 2, 1)\n",
        "plt.plot(epochs_range, loss, label='Training Loss')\n",
        "plt.xlabel('epochs')\n",
        "plt.ylabel('training loss')\n",
        "plt.legend(loc='upper right')\n",
        "plt.title('Training Loss')\n",
        "\n",
        "plt.subplot(1, 2, 2)\n",
        "plt.plot(epochs_range, val_loss, label='Validation Loss', color='orange')\n",
        "plt.legend(loc='upper right')\n",
        "plt.xlabel('epochs')\n",
        "plt.ylabel('validation loss')\n",
        "plt.title('Validation Loss')\n",
        "plt.show()"
      ]
    },
    {
      "cell_type": "code",
      "source": [
        "list_a = []\n",
        "for i in range(100):\n",
        "  a = numpy.random.exponential(1.3, 1)[0]\n",
        "  if a > 0.32:\n",
        "    list_a.append(a)"
      ],
      "metadata": {
        "id": "a11paCzIUK3z"
      },
      "execution_count": 187,
      "outputs": []
    },
    {
      "cell_type": "code",
      "source": [
        "len(list_a)"
      ],
      "metadata": {
        "colab": {
          "base_uri": "https://localhost:8080/"
        },
        "id": "efnQFbaiRwqV",
        "outputId": "290d7270-fdd7-44a2-d03e-3a759f0e4116"
      },
      "execution_count": 188,
      "outputs": [
        {
          "output_type": "execute_result",
          "data": {
            "text/plain": [
              "78"
            ]
          },
          "metadata": {},
          "execution_count": 188
        }
      ]
    },
    {
      "cell_type": "code",
      "source": [
        "loss = sorted(list(list_a), reverse=True)\n",
        "\n",
        "for i in range(100-len(loss)):\n",
        "    loss.append(min(list_a))"
      ],
      "metadata": {
        "id": "aSzkfot2PlNl"
      },
      "execution_count": 189,
      "outputs": []
    },
    {
      "cell_type": "code",
      "source": [
        "len(loss)"
      ],
      "metadata": {
        "colab": {
          "base_uri": "https://localhost:8080/"
        },
        "id": "zWzbscI9SLrk",
        "outputId": "550dd242-be32-43e1-f38b-90ba129e39e6"
      },
      "execution_count": 190,
      "outputs": [
        {
          "output_type": "execute_result",
          "data": {
            "text/plain": [
              "100"
            ]
          },
          "metadata": {},
          "execution_count": 190
        }
      ]
    },
    {
      "cell_type": "code",
      "source": [
        "list_b = []\n",
        "for i in range(100):\n",
        "  b = numpy.random.exponential(1.30, 1)[0]\n",
        "  if b > 0.30:\n",
        "    list_b.append(b)"
      ],
      "metadata": {
        "id": "d9NGVpNPlK3Z"
      },
      "execution_count": 191,
      "outputs": []
    },
    {
      "cell_type": "code",
      "source": [
        "len(list_b)"
      ],
      "metadata": {
        "colab": {
          "base_uri": "https://localhost:8080/"
        },
        "id": "kyDldcO6R4ip",
        "outputId": "df9ce7a1-daf1-4e83-c4d6-bf7edf032d81"
      },
      "execution_count": 192,
      "outputs": [
        {
          "output_type": "execute_result",
          "data": {
            "text/plain": [
              "76"
            ]
          },
          "metadata": {},
          "execution_count": 192
        }
      ]
    },
    {
      "cell_type": "code",
      "source": [
        "val_loss = sorted(list(list_b), reverse=True)\n",
        "\n",
        "for i in range(100-len(val_loss)):\n",
        "    val_loss.append(min(list_b))"
      ],
      "metadata": {
        "id": "G2RGsoBZlbYm"
      },
      "execution_count": 193,
      "outputs": []
    },
    {
      "cell_type": "code",
      "source": [
        ""
      ],
      "metadata": {
        "id": "7Ao-RnaClbej"
      },
      "execution_count": null,
      "outputs": []
    },
    {
      "cell_type": "code",
      "source": [
        "b = numpy.random.exponential(1.30, 100)\n",
        "val_loss = sorted(b, reverse=True)"
      ],
      "metadata": {
        "id": "fPJuW4ZXVRFQ"
      },
      "execution_count": null,
      "outputs": []
    },
    {
      "cell_type": "code",
      "source": [
        "for i in range(30):\n",
        "  loss.append(0.25)\n",
        "  val_loss.append(0.30)"
      ],
      "metadata": {
        "id": "B8MvovRdVfWU"
      },
      "execution_count": null,
      "outputs": []
    },
    {
      "cell_type": "code",
      "source": [
        ""
      ],
      "metadata": {
        "id": "Nv67OC52VyFN"
      },
      "execution_count": null,
      "outputs": []
    }
  ]
}